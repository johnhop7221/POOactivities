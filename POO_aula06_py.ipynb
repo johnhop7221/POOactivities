{
  "nbformat": 4,
  "nbformat_minor": 0,
  "metadata": {
    "colab": {
      "provenance": [],
      "authorship_tag": "ABX9TyNwf2QpCUTolhE4oN7fQ0LP",
      "include_colab_link": true
    },
    "kernelspec": {
      "name": "python3",
      "display_name": "Python 3"
    },
    "language_info": {
      "name": "python"
    }
  },
  "cells": [
    {
      "cell_type": "markdown",
      "metadata": {
        "id": "view-in-github",
        "colab_type": "text"
      },
      "source": [
        "<a href=\"https://colab.research.google.com/github/johnhop7221/POOactivities/blob/main/POO_aula06_py.ipynb\" target=\"_parent\"><img src=\"https://colab.research.google.com/assets/colab-badge.svg\" alt=\"Open In Colab\"/></a>"
      ]
    },
    {
      "cell_type": "code",
      "source": [
        "class Conta:\n",
        "    def __init__(self, numero, titular, saldo=0):\n",
        "        self.numero = numero\n",
        "        self.titular = titular\n",
        "        self.saldo = saldo\n",
        "\n",
        "\n",
        "class Banco:\n",
        "    def __init__(self, nome):\n",
        "        self.nome = nome\n",
        "        self.contas = []\n",
        "\n",
        "    def adicionar_conta(self, conta):\n",
        "        self.contas.append(conta)\n",
        "\n",
        "    def creditar(self, numero, valor):\n",
        "        for conta in self.contas:\n",
        "            if conta.numero == numero:\n",
        "                conta.saldo += valor\n",
        "\n",
        "    def transferir(self, origem, destino, valor):\n",
        "        conta_origem = None\n",
        "        conta_destino = None\n",
        "        for conta in self.contas:\n",
        "            if conta.numero == origem:\n",
        "                conta_origem = conta\n",
        "            elif conta.numero == destino:\n",
        "                conta_destino = conta\n",
        "        if conta_origem and conta_destino and conta_origem.saldo >= valor:\n",
        "            conta_origem.saldo -= valor\n",
        "            conta_destino.saldo += valor\n",
        "\n",
        "    def saldo(self, numero):\n",
        "        for conta in self.contas:\n",
        "            if conta.numero == numero:\n",
        "                return conta.saldo\n",
        "\n",
        "\n",
        "if __name__ == \"__main__\":\n",
        "    banco = Banco(\"Banco Exemplo\")\n",
        "\n",
        "    conta1 = Conta(1, \"Walter\", 500)\n",
        "    conta2 = Conta(2, \"Perry\", 300)\n",
        "\n",
        "    banco.adicionar_conta(conta1)\n",
        "    banco.adicionar_conta(conta2)\n",
        "\n",
        "    banco.creditar(1, 200)\n",
        "    banco.transferir(1, 2, 150)\n",
        "\n",
        "    print(\"Saldo da conta 1:\", banco.saldo(1))\n",
        "    print(\"Saldo da conta 2:\", banco.saldo(2))\n"
      ],
      "metadata": {
        "colab": {
          "base_uri": "https://localhost:8080/"
        },
        "id": "kdV0k5p3kWVn",
        "outputId": "1cf80a64-00a4-4c88-f782-7fae46793028"
      },
      "execution_count": 1,
      "outputs": [
        {
          "output_type": "stream",
          "name": "stdout",
          "text": [
            "Saldo da conta 1: 550\n",
            "Saldo da conta 2: 450\n"
          ]
        }
      ]
    }
  ]
}