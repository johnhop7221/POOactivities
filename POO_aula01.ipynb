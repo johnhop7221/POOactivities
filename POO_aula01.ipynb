{
  "cells": [
    {
      "cell_type": "markdown",
      "metadata": {
        "id": "view-in-github",
        "colab_type": "text"
      },
      "source": [
        "<a href=\"https://colab.research.google.com/github/johnhop7221/POOactivities/blob/main/POO_aula01.ipynb\" target=\"_parent\"><img src=\"https://colab.research.google.com/assets/colab-badge.svg\" alt=\"Open In Colab\"/></a>"
      ]
    },
    {
      "cell_type": "markdown",
      "metadata": {
        "id": "vwnNlNIEwoZ8"
      },
      "source": [
        "Para saber mais sobre como acelerar o pandas no Colab, veja o <a href=\"https://colab.research.google.com/github/rapidsai-community/showcase/blob/main/getting_started_tutorials/cudf_pandas_colab_demo.ipynb\">guia de 10 minutos</a> ou a\n",
        " <a href=\"https://colab.research.google.com/github/rapidsai-community/showcase/blob/main/getting_started_tutorials/cudf_pandas_stocks_demo.ipynb\">demonstração de análise de dados da bolsa de valores dos EUA</a>."
      ]
    },
    {
      "cell_type": "code",
      "source": [
        "#Question 01\n",
        "numero = int(input('Digite um número: '))\n",
        "if(numero % 2 == 0):\n",
        "  print('O número é par.')\n",
        "else:\n",
        "  print('O número é impar.')"
      ],
      "metadata": {
        "colab": {
          "base_uri": "https://localhost:8080/"
        },
        "id": "VQFP74klKEgZ",
        "outputId": "1b01b8e0-6b93-4869-ca2f-52142fe08837"
      },
      "execution_count": null,
      "outputs": [
        {
          "output_type": "stream",
          "name": "stdout",
          "text": [
            "Digite um número: 28\n",
            "O número é par.\n"
          ]
        }
      ]
    },
    {
      "cell_type": "code",
      "source": [
        "#Question 02\n",
        "nome = input('Digite seu nome: ')\n",
        "sexo = input('Digite o sexo da pessoa (F/M): ')\n",
        "if sexo == 'M':\n",
        "  idade = int(input('Digite sua idade: '))\n",
        "  print(f'Seu nome é {nome}, é do sexo masculino e você tem {idade} de idade.')\n",
        "else:\n",
        "  idade = int(input('Digite sua idade: '))\n",
        "  print(f'Seu nome é {nome}, é do sexo feminino e você tem {idade} de idade.')"
      ],
      "metadata": {
        "id": "kVco2_A_PbrF",
        "outputId": "4f74199e-404b-4e21-e6df-5762c41790b8",
        "colab": {
          "base_uri": "https://localhost:8080/"
        }
      },
      "execution_count": null,
      "outputs": [
        {
          "output_type": "stream",
          "name": "stdout",
          "text": [
            "Digite seu nome: joane\n",
            "Digite o sexo da pessoa (F/M): f\n",
            "Digite sua idade: 24\n",
            "Seu nome é joane, é do sexo feminino e você tem 24 de idade.\n"
          ]
        }
      ]
    },
    {
      "cell_type": "code",
      "source": [
        "#Qustion 3\n",
        "peso = float(input('Digite seu peso: '))\n",
        "altura = float(input('Digite sua altura: '))\n",
        "imc = peso / (altura * altura)\n",
        "if imc < 18.5:\n",
        "  print('Abaixo do peso.')\n",
        "elif imc >= 18.5 and imc <= 24.9:\n",
        "  print('Saudável')\n",
        "elif imc>= 25 and imc <= 29.9:\n",
        "  print('Sobrepeso')\n",
        "elif imc >= 30 and imc <= 34.9:\n",
        "  print('Obesidade grau 1')\n",
        "elif imc >= 35 and imc <= 39.9:\n",
        "  print('Obesidade grau 2')\n",
        "elif imc >= 40:\n",
        "  print('Obesidade grau 3')\n",
        "else:\n",
        "  print('Opção inválida.')"
      ],
      "metadata": {
        "id": "sUHBWe3aRj1C",
        "outputId": "3130da40-abf3-4d1a-defb-2852ef3b4d51",
        "colab": {
          "base_uri": "https://localhost:8080/"
        }
      },
      "execution_count": null,
      "outputs": [
        {
          "output_type": "stream",
          "name": "stdout",
          "text": [
            "Digite seu peso: 53.5\n",
            "Digite sua altura: 1.53\n",
            "Saudável\n"
          ]
        }
      ]
    },
    {
      "cell_type": "code",
      "source": [
        "from math import sqrt\n",
        "\n",
        "escolha_de_lados = int(input('Digite a quantidade de lados do poligono(3 ou 4): '))\n",
        "\n",
        "if escolha_de_lados == 3:\n",
        "    x1 = float(input('Digite a coordenada x do ponto 1: '))\n",
        "    y1 = float(input('Digite a coordenada y do ponto 1: '))\n",
        "    x2 = float(input('Digite a coordenada x do ponto 2: '))\n",
        "    y2 = float(input('Digite a coordenada y do ponto 2: '))\n",
        "    x3 = float(input('Digite a coordenada x do ponto 3: '))\n",
        "    y3 = float(input('Digite a coordenada y do ponto 3: '))\n",
        "\n",
        "    lado1 = sqrt((x2-x1)**2 + (y2-y1)**2)\n",
        "    lado2 = sqrt((x3-x2)**2 + (y3-y2)**2)\n",
        "    lado3 = sqrt((x1-x3)**2 + (y1-y3)**2)\n",
        "\n",
        "    if (lado1 < lado2 + lado3) and (lado2 < lado1 + lado3) and (lado3 < lado1 + lado2):\n",
        "        if lado1 == lado2 and lado2 == lado3:\n",
        "            print('Triângulo equilátero.')\n",
        "        elif lado1 == lado2 or lado1 == lado3 or lado2 == lado3:\n",
        "            print('Triângulo isósceles.')\n",
        "        else:\n",
        "            print('Triângulo escaleno.')\n",
        "    else:\n",
        "        print('Os pontos não formam um triângulo.')\n",
        "\n",
        "elif escolha_de_lados == 4:\n",
        "    x1 = float(input('Digite a coordenada x do ponto 1: '))\n",
        "    y1 = float(input('Digite a coordenada y do ponto 1: '))\n",
        "    x2 = float(input('Digite a coordenada x do ponto 2: '))\n",
        "    y2 = float(input('Digite a coordenada y do ponto 2: '))\n",
        "    x3 = float(input('Digite a coordenada x do ponto 3: '))\n",
        "    y3 = float(input('Digite a coordenada y do ponto 3: '))\n",
        "    x4 = float(input('Digite a coordenada x do ponto 4: '))\n",
        "    y4 = float(input('Digite a coordenada y do ponto 4: '))\n",
        "\n",
        "    lado1 = sqrt((x2-x1)**2 + (y2-y1)**2)\n",
        "    lado2 = sqrt((x3-x2)**2 + (y3-y2)**2)\n",
        "    lado3 = sqrt((x4-x3)**2 + (y4-y3)**2)\n",
        "    lado4 = sqrt((x1-x4)**2 + (y1-y4)**2)\n",
        "\n",
        "    v1x = x2 - x1\n",
        "    v1y = y2 - y1\n",
        "    v2x = x3 - x2\n",
        "    v2y = y3 - y2\n",
        "    v3x = x4 - x3\n",
        "    v3y = y4 - y3\n",
        "    v4x = x1 - x4\n",
        "    v4y = y1 - y4\n",
        "\n",
        "    angulo1_reto = (v1x * v2x + v1y * v2y) == 0\n",
        "    angulo2_reto = (v2x * v3x + v2y * v3y) == 0\n",
        "    angulo3_reto = (v3x * v4x + v3y * v4y) == 0\n",
        "    angulo4_reto = (v4x * v1x + v4y * v1y) == 0\n",
        "\n",
        "    if (lado1 == lado2 and lado2 == lado3 and lado3 == lado4):\n",
        "        print('Quadrado.')\n",
        "    elif (lado1 == lado3 and lado2 == lado4):\n",
        "        print('Retângulo.')\n",
        "    else:\n",
        "        print('Polígono.')\n",
        "\n",
        "else:\n",
        "    print('Quantidade de lados inválida. Digite 3 ou 4.')"
      ],
      "metadata": {
        "id": "g3-ojkyVTb9N",
        "colab": {
          "base_uri": "https://localhost:8080/"
        },
        "outputId": "4c55294c-514d-4e09-8bfc-edc1471e111a"
      },
      "execution_count": 2,
      "outputs": [
        {
          "output_type": "stream",
          "name": "stdout",
          "text": [
            "Digite a quantidade de lados do poligono(3 ou 4): 2\n",
            "Quantidade de lados inválida. Digite 3 ou 4.\n"
          ]
        }
      ]
    },
    {
      "cell_type": "code",
      "source": [
        "# Dicas pro usuário sobre quais coordenadas formam o tipo de triângulo que ele deseja.\n",
        "escolha = input('Escolha o tipo de triângulo(equilatero, isosceles ou escaleno): ')\n",
        "Tri_equilátero = \"(0,0) (4,0) (2,2√3)\"\n",
        "Tri_isósceles = \"(0,0) (4,0) (2,2)\"\n",
        "Tri_escaleno = \"(0,0) (5,5) (7,1)\"\n",
        "if escolha == \"equilatero\":\n",
        "  print(Tri_equilátero)\n",
        "elif escolha == \"isosceles\":\n",
        "  print(Tri_isósceles)\n",
        "elif escolha == \"escaleno\":\n",
        "  print(Tri_escaleno)\n",
        "else:\n",
        "  print('Opção inválida.')"
      ],
      "metadata": {
        "colab": {
          "base_uri": "https://localhost:8080/"
        },
        "id": "wvZaW9YDMzI5",
        "outputId": "33ea19cd-440b-48eb-ead7-604664f0994c"
      },
      "execution_count": null,
      "outputs": [
        {
          "output_type": "stream",
          "name": "stdout",
          "text": [
            "Escolha o tipo de triângulo(equilatero, isosceles ou escaleno): equilatero\n",
            "(0,0) (4,0) (2,2√3)\n"
          ]
        }
      ]
    },
    {
      "cell_type": "code",
      "source": [
        "numero = input('Digite cinco números para saber se formam um palíndromo.')\n",
        "if len(numero) == 5 and numero == numero[::-1]:\n",
        "  print(f'O número {numero} é um palíndromo.')\n",
        "else:\n",
        "  print(f'O número {numero} não é um palíndromo.')"
      ],
      "metadata": {
        "colab": {
          "base_uri": "https://localhost:8080/"
        },
        "id": "upUHyb1SVJRn",
        "outputId": "f77a0a4d-6344-4a8f-9888-b9bf2a538323"
      },
      "execution_count": 1,
      "outputs": [
        {
          "output_type": "stream",
          "name": "stdout",
          "text": [
            "Digite cinco números para saber se formam um palíndromo.tenet\n",
            "O número tenet não é um palíndromo.\n"
          ]
        }
      ]
    }
  ],
  "metadata": {
    "colab": {
      "provenance": [],
      "include_colab_link": true
    },
    "kernelspec": {
      "display_name": "Python 3",
      "name": "python3"
    }
  },
  "nbformat": 4,
  "nbformat_minor": 0
}