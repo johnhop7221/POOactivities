{
  "nbformat": 4,
  "nbformat_minor": 0,
  "metadata": {
    "colab": {
      "provenance": [],
      "authorship_tag": "ABX9TyOHyoOWBshaP9AdOuEzeiGW",
      "include_colab_link": true
    },
    "kernelspec": {
      "name": "python3",
      "display_name": "Python 3"
    },
    "language_info": {
      "name": "python"
    }
  },
  "cells": [
    {
      "cell_type": "markdown",
      "metadata": {
        "id": "view-in-github",
        "colab_type": "text"
      },
      "source": [
        "<a href=\"https://colab.research.google.com/github/johnhop7221/POOactivities/blob/main/POO_aula02_py.ipynb\" target=\"_parent\"><img src=\"https://colab.research.google.com/assets/colab-badge.svg\" alt=\"Open In Colab\"/></a>"
      ]
    },
    {
      "cell_type": "code",
      "execution_count": 3,
      "metadata": {
        "colab": {
          "base_uri": "https://localhost:8080/"
        },
        "id": "VT9SeRMEmrGR",
        "outputId": "f5b7d60c-24f7-4e89-c224-36882a697636"
      },
      "outputs": [
        {
          "output_type": "stream",
          "name": "stdout",
          "text": [
            "Enter your name, please: john\n",
            "Now, enter your age: 23,\n",
            "Enter your weight in kilograms: 53.5\n",
            "And finally, your nationality: english\n",
            "name: john\n",
            "age: 23, years\n",
            "w: 117.9675 pounds\n",
            "nationality: english\n"
          ]
        }
      ],
      "source": [
        "# Atividade 01\n",
        "name = input('Enter your name, please: ')\n",
        "age = input('Now, enter your age: ')\n",
        "weight = float(input('Enter your weight in kilograms: '))\n",
        "nationality = input('And finally, your nationality: ')\n",
        "\n",
        "pounds = w * 2.205\n",
        "\n",
        "print(f'name: {name}\\nage: {age} years\\nw: {pounds} pounds\\nnationality: {nationality}')"
      ]
    },
    {
      "cell_type": "code",
      "source": [
        "# Atividade 02\n",
        "radius = float(input('Please, enter the radius value: '))\n",
        "perimeter = (2 * 3.14 * radius)\n",
        "print(f'The perimeter value is {perimeter:.2f}.')"
      ],
      "metadata": {
        "colab": {
          "base_uri": "https://localhost:8080/"
        },
        "id": "B1TH66uoplQU",
        "outputId": "0a22e6dd-cd08-44ae-da72-de20ca4cf8a5"
      },
      "execution_count": 6,
      "outputs": [
        {
          "output_type": "stream",
          "name": "stdout",
          "text": [
            "Please, enter the radius value: 5\n",
            "The perimeter value is 31.40 \n"
          ]
        }
      ]
    },
    {
      "cell_type": "code",
      "source": [
        "# Atividade 03\n",
        "from math import sqrt\n",
        "x1 = float(input('Enter the first x coordinate: '))\n",
        "y1 = float(input('Enter the first y coordinate: '))\n",
        "x2 = float(input('Enter the second x coordinate: '))\n",
        "y2 = float(input('Enter the second y coordinate: '))\n",
        "distance_formula = sqrt((x1 - x2)**2 + (y1 - y2)**2)\n",
        "print(f'The distance between the two points is {distance_formula:.2f}.'"
      ],
      "metadata": {
        "id": "no_Dt6nCq_Fw"
      },
      "execution_count": null,
      "outputs": []
    }
  ]
}