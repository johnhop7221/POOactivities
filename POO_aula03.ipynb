{
  "nbformat": 4,
  "nbformat_minor": 0,
  "metadata": {
    "colab": {
      "provenance": [],
      "authorship_tag": "ABX9TyPgxZKJpyrOzlEKI0/TJrhA",
      "include_colab_link": true
    },
    "kernelspec": {
      "name": "python3",
      "display_name": "Python 3"
    },
    "language_info": {
      "name": "python"
    }
  },
  "cells": [
    {
      "cell_type": "markdown",
      "metadata": {
        "id": "view-in-github",
        "colab_type": "text"
      },
      "source": [
        "<a href=\"https://colab.research.google.com/github/johnhop7221/POOactivities/blob/main/POO_aula03.ipynb\" target=\"_parent\"><img src=\"https://colab.research.google.com/assets/colab-badge.svg\" alt=\"Open In Colab\"/></a>"
      ]
    },
    {
      "cell_type": "code",
      "execution_count": 10,
      "metadata": {
        "colab": {
          "base_uri": "https://localhost:8080/"
        },
        "id": "5e6Vq65nUZYu",
        "outputId": "f3ca975c-b724-4844-aa35-639d2b033dbe"
      },
      "outputs": [
        {
          "name": "stdout",
          "output_type": "stream",
          "text": [
            "=== MENU DO CAIXA ELETRONICO ===\n",
            "1 - Depositar.\n",
            "2 - Sacar.\n",
            "3 - Ver saldo.\n",
            "4 - Ver histórico de transações.\n",
            "5 - Sair.\n",
            "Escolha uma opção: 4\n",
            "Histórico de transações:\n",
            "=== MENU DO CAIXA ELETRONICO ===\n",
            "1 - Depositar.\n",
            "2 - Sacar.\n",
            "3 - Ver saldo.\n",
            "4 - Ver histórico de transações.\n",
            "5 - Sair.\n",
            "Escolha uma opção: 1\n",
            "Digite o valor a ser adicionado: 7000\n",
            "Depósito de R$ 7000.00 realizado com sucesso.\n",
            "=== MENU DO CAIXA ELETRONICO ===\n",
            "1 - Depositar.\n",
            "2 - Sacar.\n",
            "3 - Ver saldo.\n",
            "4 - Ver histórico de transações.\n",
            "5 - Sair.\n",
            "Escolha uma opção: 2\n",
            "Digite o valor a ser sacado: 750\n",
            "Saque de R$ 750.00 realizado com sucesso.\n",
            "=== MENU DO CAIXA ELETRONICO ===\n",
            "1 - Depositar.\n",
            "2 - Sacar.\n",
            "3 - Ver saldo.\n",
            "4 - Ver histórico de transações.\n",
            "5 - Sair.\n",
            "Escolha uma opção: 3\n",
            "Saldo atual: R$ 7250.00\n",
            "=== MENU DO CAIXA ELETRONICO ===\n",
            "1 - Depositar.\n",
            "2 - Sacar.\n",
            "3 - Ver saldo.\n",
            "4 - Ver histórico de transações.\n",
            "5 - Sair.\n",
            "Escolha uma opção: 4\n",
            "Histórico de transações:\n",
            "Depósito: +R$ 7000.00\n",
            "Saque: -R$ 750.00\n",
            "=== MENU DO CAIXA ELETRONICO ===\n",
            "1 - Depositar.\n",
            "2 - Sacar.\n",
            "3 - Ver saldo.\n",
            "4 - Ver histórico de transações.\n",
            "5 - Sair.\n",
            "Escolha uma opção: 5\n"
          ]
        }
      ],
      "source": [
        "# Sistema de caixa eletrônico\n",
        "saldo_do_cliente = 1000\n",
        "historico = []\n",
        "\n",
        "while True:\n",
        "  print('=== MENU DO CAIXA ELETRONICO ===')\n",
        "  print('1 - Depositar.')\n",
        "  print('2 - Sacar.')\n",
        "  print('3 - Ver saldo.')\n",
        "  print('4 - Ver histórico de transações.')\n",
        "  print('5 - Sair.')\n",
        "  opcao = input('Escolha uma opção: ')\n",
        "\n",
        "  if opcao == '1':\n",
        "    valor = float(input('Digite o valor a ser adicionado: '))\n",
        "    if valor >0:\n",
        "      saldo_do_cliente += valor\n",
        "      historico.append(f'Depósito: +R$ {valor:.2f}')\n",
        "      print(f'Depósito de R$ {valor:.2f} realizado com sucesso.')\n",
        "    else:\n",
        "      print('Valor inválido.')\n",
        "  elif opcao == '2':\n",
        "    valor = float(input('Digite o valor a ser sacado: '))\n",
        "    if valor > 0 and valor <= saldo_do_cliente:\n",
        "      saldo_do_cliente -= valor\n",
        "      historico.append(f'Saque: -R$ {valor:.2f}')\n",
        "      print(f'Saque de R$ {valor:.2f} realizado com sucesso.')\n",
        "  elif opcao == '3':\n",
        "    print(f'Saldo atual: R$ {saldo_do_cliente:.2f}')\n",
        "  elif opcao == '4':\n",
        "    print('Histórico de transações:')\n",
        "    for transacao in historico:\n",
        "      print(transacao)\n",
        "  elif opcao == '5':\n",
        "    break\n",
        "  else:\n",
        "    print('Opção inválida. Por favor, tente novamente.')"
      ]
    }
  ]
}